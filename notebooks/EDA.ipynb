{
 "cells": [
  {
   "cell_type": "code",
   "execution_count": 1,
   "id": "initial_id",
   "metadata": {
    "collapsed": true,
    "ExecuteTime": {
     "end_time": "2024-04-03T23:59:23.182843879Z",
     "start_time": "2024-04-03T23:59:22.990456348Z"
    }
   },
   "outputs": [
    {
     "name": "stderr",
     "output_type": "stream",
     "text": [
      "<ipython-input-1-d6d0dca9a8a0>:1: DeprecationWarning: \n",
      "Pyarrow will become a required dependency of pandas in the next major release of pandas (pandas 3.0),\n",
      "(to allow more performant data types, such as the Arrow string type, and better interoperability with other libraries)\n",
      "but was not found to be installed on your system.\n",
      "If this would cause problems for you,\n",
      "please provide us feedback at https://github.com/pandas-dev/pandas/issues/54466\n",
      "        \n",
      "  import pandas as pd\n"
     ]
    }
   ],
   "source": [
    "import pandas as pd\n",
    "from string import digits, punctuation\n",
    "from unidecode import unidecode\n",
    "import re\n",
    "from collections import Counter\n"
   ]
  },
  {
   "cell_type": "code",
   "outputs": [],
   "source": [
    "def read_file(file_path):\n",
    "    with open(file_path, \"r\") as file:\n",
    "        f = file.read()\n",
    "    f = f.split(\"\\n\")\n",
    "    return f"
   ],
   "metadata": {
    "collapsed": false,
    "ExecuteTime": {
     "end_time": "2024-04-03T23:59:23.660751295Z",
     "start_time": "2024-04-03T23:59:23.657141978Z"
    }
   },
   "id": "dbcf34e4e1cdcc4",
   "execution_count": 2
  },
  {
   "cell_type": "code",
   "outputs": [],
   "source": [
    "eng = read_file(\"../data/en-kikuyu/eng.txt\")"
   ],
   "metadata": {
    "collapsed": false,
    "ExecuteTime": {
     "end_time": "2024-04-03T23:59:23.950963146Z",
     "start_time": "2024-04-03T23:59:23.947780861Z"
    }
   },
   "id": "61cd4994c02c840e",
   "execution_count": 3
  },
  {
   "cell_type": "code",
   "outputs": [],
   "source": [
    "kikuyu = read_file(\"../data/en-kikuyu/kikuyu.txt\")"
   ],
   "metadata": {
    "collapsed": false,
    "ExecuteTime": {
     "end_time": "2024-04-03T23:59:24.137643966Z",
     "start_time": "2024-04-03T23:59:24.131534848Z"
    }
   },
   "id": "84d0b77cd986da8d",
   "execution_count": 4
  },
  {
   "cell_type": "code",
   "outputs": [],
   "source": [
    "en_kikuyu = pd.DataFrame({'kikuyu': kikuyu,\n",
    "              'eng': eng})"
   ],
   "metadata": {
    "collapsed": false,
    "ExecuteTime": {
     "end_time": "2024-04-03T23:59:24.364511116Z",
     "start_time": "2024-04-03T23:59:24.355019498Z"
    }
   },
   "id": "d4f8c2da5c9b4f01",
   "execution_count": 5
  },
  {
   "cell_type": "code",
   "outputs": [
    {
     "data": {
      "text/plain": "                                                 kikuyu  \\\n0     Marĩĩtwa mamwe thĩinĩ wa gĩcunjĩ gĩkĩ nĩ macen...   \n1     Jehova nĩrĩo rĩĩtwa rĩa Ngai ta ũrĩa rĩguũrĩti...   \n2     Bibilia yugaga ũũ : “ Ngoro ya mwana ĩthaĩkanĩ...   \n3     © 2016 Watch Tower Bible and Tract Society of ...   \n4     ( Rora rungu rwa MORUTANI MA BIBILIA > MACOKIO...   \n...                                                 ...   \n2694    Ngũbia ya ũhonokio ( Rora kĩbungo gĩa 15 - 18 )   \n2695  Nĩ nyonete atĩ andũ nĩ mathikagĩrĩria wega man...   \n2696        Rũhiũ rwa roho ( Rora kĩbungo gĩa 19 - 20 )   \n2697  Kũgerera ũteithio wa Jehova , no tũhote kwĩhan...   \n2698                                                      \n\n                                                    eng  \n0        Some names in this article have been changed .  \n1     Jehovah is the name of God as revealed in the ...  \n2     The Bible says that “ foolishness is bound up ...  \n3     © 2016 Watch Tower Bible and Tract Society of ...  \n4     ( Look under BIBLE TEACHINGS > BIBLE QUESTIONS...  \n...                                                 ...  \n2694  The helmet of salvation ( See paragraphs 15 - ...  \n2695  I’ve found that people respond well when they ...  \n2696  The sword of the spirit ( See paragraphs 19 - ...  \n2697  With Jehovah’s help , we can stand firm agains...  \n2698                                                     \n\n[2699 rows x 2 columns]",
      "text/html": "<div>\n<style scoped>\n    .dataframe tbody tr th:only-of-type {\n        vertical-align: middle;\n    }\n\n    .dataframe tbody tr th {\n        vertical-align: top;\n    }\n\n    .dataframe thead th {\n        text-align: right;\n    }\n</style>\n<table border=\"1\" class=\"dataframe\">\n  <thead>\n    <tr style=\"text-align: right;\">\n      <th></th>\n      <th>kikuyu</th>\n      <th>eng</th>\n    </tr>\n  </thead>\n  <tbody>\n    <tr>\n      <th>0</th>\n      <td>Marĩĩtwa mamwe thĩinĩ wa gĩcunjĩ gĩkĩ nĩ macen...</td>\n      <td>Some names in this article have been changed .</td>\n    </tr>\n    <tr>\n      <th>1</th>\n      <td>Jehova nĩrĩo rĩĩtwa rĩa Ngai ta ũrĩa rĩguũrĩti...</td>\n      <td>Jehovah is the name of God as revealed in the ...</td>\n    </tr>\n    <tr>\n      <th>2</th>\n      <td>Bibilia yugaga ũũ : “ Ngoro ya mwana ĩthaĩkanĩ...</td>\n      <td>The Bible says that “ foolishness is bound up ...</td>\n    </tr>\n    <tr>\n      <th>3</th>\n      <td>© 2016 Watch Tower Bible and Tract Society of ...</td>\n      <td>© 2016 Watch Tower Bible and Tract Society of ...</td>\n    </tr>\n    <tr>\n      <th>4</th>\n      <td>( Rora rungu rwa MORUTANI MA BIBILIA &gt; MACOKIO...</td>\n      <td>( Look under BIBLE TEACHINGS &gt; BIBLE QUESTIONS...</td>\n    </tr>\n    <tr>\n      <th>...</th>\n      <td>...</td>\n      <td>...</td>\n    </tr>\n    <tr>\n      <th>2694</th>\n      <td>Ngũbia ya ũhonokio ( Rora kĩbungo gĩa 15 - 18 )</td>\n      <td>The helmet of salvation ( See paragraphs 15 - ...</td>\n    </tr>\n    <tr>\n      <th>2695</th>\n      <td>Nĩ nyonete atĩ andũ nĩ mathikagĩrĩria wega man...</td>\n      <td>I’ve found that people respond well when they ...</td>\n    </tr>\n    <tr>\n      <th>2696</th>\n      <td>Rũhiũ rwa roho ( Rora kĩbungo gĩa 19 - 20 )</td>\n      <td>The sword of the spirit ( See paragraphs 19 - ...</td>\n    </tr>\n    <tr>\n      <th>2697</th>\n      <td>Kũgerera ũteithio wa Jehova , no tũhote kwĩhan...</td>\n      <td>With Jehovah’s help , we can stand firm agains...</td>\n    </tr>\n    <tr>\n      <th>2698</th>\n      <td></td>\n      <td></td>\n    </tr>\n  </tbody>\n</table>\n<p>2699 rows × 2 columns</p>\n</div>"
     },
     "execution_count": 6,
     "metadata": {},
     "output_type": "execute_result"
    }
   ],
   "source": [
    "en_kikuyu"
   ],
   "metadata": {
    "collapsed": false,
    "ExecuteTime": {
     "end_time": "2024-04-03T23:59:25.592467640Z",
     "start_time": "2024-04-03T23:59:25.573423428Z"
    }
   },
   "id": "7061d9c9a1fa68d3",
   "execution_count": 6
  },
  {
   "cell_type": "code",
   "outputs": [],
   "source": [
    "def clean_text(x):\n",
    "    remove_digits = str.maketrans('', '', digits)\n",
    "    x = x.translate(remove_digits).lower()\n",
    "    x = re.sub(r'(www|http|https)\\S+', '', x)\n",
    "    x = unidecode(x)\n",
    "    x = x.translate(str.maketrans('', '', punctuation))\n",
    "    return x"
   ],
   "metadata": {
    "collapsed": false,
    "ExecuteTime": {
     "end_time": "2024-04-03T23:59:25.849009720Z",
     "start_time": "2024-04-03T23:59:25.846703913Z"
    }
   },
   "id": "6d72f788f2559124",
   "execution_count": 7
  },
  {
   "cell_type": "code",
   "outputs": [],
   "source": [
    "en_kikuyu[\"kikuyu\"] = en_kikuyu.kikuyu.apply(clean_text)\n",
    "en_kikuyu[\"eng\"] = en_kikuyu.eng.apply(clean_text)"
   ],
   "metadata": {
    "collapsed": false,
    "ExecuteTime": {
     "end_time": "2024-04-03T23:59:26.071407041Z",
     "start_time": "2024-04-03T23:59:25.998518147Z"
    }
   },
   "id": "9258d1d314de734",
   "execution_count": 8
  },
  {
   "cell_type": "code",
   "outputs": [
    {
     "data": {
      "text/plain": "                                                 kikuyu  \\\n0     mariitwa mamwe thiini wa gicunji giki ni macen...   \n1     jehova nirio riitwa ria ngai ta uria riguuriti...   \n2     bibilia yugaga uu   ngoro ya mwana ithaikaniti...   \n3     c  watch tower bible and tract society of penn...   \n4      rora rungu rwa morutani ma bibilia  macokio m...   \n...                                                 ...   \n2694           ngubia ya uhonokio  rora kibungo gia       \n2695  ni nyonete ati andu ni mathikagiriria wega man...   \n2696               ruhiu rwa roho  rora kibungo gia       \n2697  kugerera uteithio wa jehova  no tuhote kwihand...   \n2698                                                      \n\n                                                    eng  \n0         some names in this article have been changed   \n1     jehovah is the name of god as revealed in the ...  \n2     the bible says that  foolishness is bound up i...  \n3     c  watch tower bible and tract society of penn...  \n4      look under bible teachings  bible questions a...  \n...                                                 ...  \n2694        the helmet of salvation  see paragraphs      \n2695  ive found that people respond well when they s...  \n2696        the sword of the spirit  see paragraphs      \n2697  with jehovahs help  we can stand firm against ...  \n2698                                                     \n\n[2699 rows x 2 columns]",
      "text/html": "<div>\n<style scoped>\n    .dataframe tbody tr th:only-of-type {\n        vertical-align: middle;\n    }\n\n    .dataframe tbody tr th {\n        vertical-align: top;\n    }\n\n    .dataframe thead th {\n        text-align: right;\n    }\n</style>\n<table border=\"1\" class=\"dataframe\">\n  <thead>\n    <tr style=\"text-align: right;\">\n      <th></th>\n      <th>kikuyu</th>\n      <th>eng</th>\n    </tr>\n  </thead>\n  <tbody>\n    <tr>\n      <th>0</th>\n      <td>mariitwa mamwe thiini wa gicunji giki ni macen...</td>\n      <td>some names in this article have been changed</td>\n    </tr>\n    <tr>\n      <th>1</th>\n      <td>jehova nirio riitwa ria ngai ta uria riguuriti...</td>\n      <td>jehovah is the name of god as revealed in the ...</td>\n    </tr>\n    <tr>\n      <th>2</th>\n      <td>bibilia yugaga uu   ngoro ya mwana ithaikaniti...</td>\n      <td>the bible says that  foolishness is bound up i...</td>\n    </tr>\n    <tr>\n      <th>3</th>\n      <td>c  watch tower bible and tract society of penn...</td>\n      <td>c  watch tower bible and tract society of penn...</td>\n    </tr>\n    <tr>\n      <th>4</th>\n      <td>rora rungu rwa morutani ma bibilia  macokio m...</td>\n      <td>look under bible teachings  bible questions a...</td>\n    </tr>\n    <tr>\n      <th>...</th>\n      <td>...</td>\n      <td>...</td>\n    </tr>\n    <tr>\n      <th>2694</th>\n      <td>ngubia ya uhonokio  rora kibungo gia</td>\n      <td>the helmet of salvation  see paragraphs</td>\n    </tr>\n    <tr>\n      <th>2695</th>\n      <td>ni nyonete ati andu ni mathikagiriria wega man...</td>\n      <td>ive found that people respond well when they s...</td>\n    </tr>\n    <tr>\n      <th>2696</th>\n      <td>ruhiu rwa roho  rora kibungo gia</td>\n      <td>the sword of the spirit  see paragraphs</td>\n    </tr>\n    <tr>\n      <th>2697</th>\n      <td>kugerera uteithio wa jehova  no tuhote kwihand...</td>\n      <td>with jehovahs help  we can stand firm against ...</td>\n    </tr>\n    <tr>\n      <th>2698</th>\n      <td></td>\n      <td></td>\n    </tr>\n  </tbody>\n</table>\n<p>2699 rows × 2 columns</p>\n</div>"
     },
     "execution_count": 9,
     "metadata": {},
     "output_type": "execute_result"
    }
   ],
   "source": [
    "en_kikuyu"
   ],
   "metadata": {
    "collapsed": false,
    "ExecuteTime": {
     "end_time": "2024-04-03T23:59:26.217245377Z",
     "start_time": "2024-04-03T23:59:26.181436795Z"
    }
   },
   "id": "2119b60df87bcd2c",
   "execution_count": 9
  },
  {
   "cell_type": "code",
   "outputs": [],
   "source": [
    "eng_ = read_file(\"../data/eng-swa/gamayun_kit5k.eng\")\n",
    "swahili = read_file(\"../data/eng-swa/gamayun_kit5k.swa\")"
   ],
   "metadata": {
    "collapsed": false,
    "ExecuteTime": {
     "end_time": "2024-04-03T23:59:26.450820086Z",
     "start_time": "2024-04-03T23:59:26.405430796Z"
    }
   },
   "id": "283b021f73ee0d67",
   "execution_count": 10
  },
  {
   "cell_type": "code",
   "outputs": [
    {
     "data": {
      "text/plain": "                                                    eng  \\\n0                              Is that your new friend?   \n1                  Jacob wasn't interested in baseball.   \n2          Adam told me that Alice had a new boyfriend.   \n3           The radio didn't inform about the accident.   \n4                       Adam is worried we'll get lost.   \n...                                                 ...   \n4996                        C'mon, let's eat something!   \n4997  The essence of all art is to have pleasure in ...   \n4998  As I entered the coffee bar, I found two young...   \n4999  When you swallow a dangerous substance, what y...   \n5000                                                      \n\n                                                swahili  \n0                             Huyo ni rafiki yako mpya?  \n1                     Job hana hamu ya mpira wa vikapu.  \n2     Adam aliniambia kuwa Alice alikuwa na mpenzi m...  \n3                   Radio haikutanga kuhusu ajali hiyo.  \n4                         Adamu ana wasiwasi tutapotea.  \n...                                                 ...  \n4996                             Njoo, wacha tule kitu!  \n4997  Kiini cha sanaa yote ni kuwa na furaha katika ...  \n4998  Nilipoingia kwenye mkahawa, nilipata vijana wa...  \n4999  Unapomeza dutu hatari, kile unahitaji kufanya ...  \n5000                                                     \n\n[5001 rows x 2 columns]",
      "text/html": "<div>\n<style scoped>\n    .dataframe tbody tr th:only-of-type {\n        vertical-align: middle;\n    }\n\n    .dataframe tbody tr th {\n        vertical-align: top;\n    }\n\n    .dataframe thead th {\n        text-align: right;\n    }\n</style>\n<table border=\"1\" class=\"dataframe\">\n  <thead>\n    <tr style=\"text-align: right;\">\n      <th></th>\n      <th>eng</th>\n      <th>swahili</th>\n    </tr>\n  </thead>\n  <tbody>\n    <tr>\n      <th>0</th>\n      <td>Is that your new friend?</td>\n      <td>Huyo ni rafiki yako mpya?</td>\n    </tr>\n    <tr>\n      <th>1</th>\n      <td>Jacob wasn't interested in baseball.</td>\n      <td>Job hana hamu ya mpira wa vikapu.</td>\n    </tr>\n    <tr>\n      <th>2</th>\n      <td>Adam told me that Alice had a new boyfriend.</td>\n      <td>Adam aliniambia kuwa Alice alikuwa na mpenzi m...</td>\n    </tr>\n    <tr>\n      <th>3</th>\n      <td>The radio didn't inform about the accident.</td>\n      <td>Radio haikutanga kuhusu ajali hiyo.</td>\n    </tr>\n    <tr>\n      <th>4</th>\n      <td>Adam is worried we'll get lost.</td>\n      <td>Adamu ana wasiwasi tutapotea.</td>\n    </tr>\n    <tr>\n      <th>...</th>\n      <td>...</td>\n      <td>...</td>\n    </tr>\n    <tr>\n      <th>4996</th>\n      <td>C'mon, let's eat something!</td>\n      <td>Njoo, wacha tule kitu!</td>\n    </tr>\n    <tr>\n      <th>4997</th>\n      <td>The essence of all art is to have pleasure in ...</td>\n      <td>Kiini cha sanaa yote ni kuwa na furaha katika ...</td>\n    </tr>\n    <tr>\n      <th>4998</th>\n      <td>As I entered the coffee bar, I found two young...</td>\n      <td>Nilipoingia kwenye mkahawa, nilipata vijana wa...</td>\n    </tr>\n    <tr>\n      <th>4999</th>\n      <td>When you swallow a dangerous substance, what y...</td>\n      <td>Unapomeza dutu hatari, kile unahitaji kufanya ...</td>\n    </tr>\n    <tr>\n      <th>5000</th>\n      <td></td>\n      <td></td>\n    </tr>\n  </tbody>\n</table>\n<p>5001 rows × 2 columns</p>\n</div>"
     },
     "execution_count": 11,
     "metadata": {},
     "output_type": "execute_result"
    }
   ],
   "source": [
    "en_swahili = pd.DataFrame({\"eng\": eng_,\n",
    "                           \"swahili\": swahili})\n",
    "en_swahili"
   ],
   "metadata": {
    "collapsed": false,
    "ExecuteTime": {
     "end_time": "2024-04-03T23:59:27.567539111Z",
     "start_time": "2024-04-03T23:59:27.546496690Z"
    }
   },
   "id": "427652d1b8a33e5f",
   "execution_count": 11
  },
  {
   "cell_type": "code",
   "outputs": [
    {
     "data": {
      "text/plain": "                                                    eng  \\\n0                               is that your new friend   \n1                    jacob wasnt interested in baseball   \n2           adam told me that alice had a new boyfriend   \n3             the radio didnt inform about the accident   \n4                         adam is worried well get lost   \n...                                                 ...   \n4996                            cmon lets eat something   \n4997  the essence of all art is to have pleasure in ...   \n4998  as i entered the coffee bar i found two young ...   \n4999  when you swallow a dangerous substance what yo...   \n5000                                                      \n\n                                                swahili  \n0                              huyo ni rafiki yako mpya  \n1                      job hana hamu ya mpira wa vikapu  \n2     adam aliniambia kuwa alice alikuwa na mpenzi m...  \n3                    radio haikutanga kuhusu ajali hiyo  \n4                          adamu ana wasiwasi tutapotea  \n...                                                 ...  \n4996                               njoo wacha tule kitu  \n4997  kiini cha sanaa yote ni kuwa na furaha katika ...  \n4998  nilipoingia kwenye mkahawa nilipata vijana waw...  \n4999  unapomeza dutu hatari kile unahitaji kufanya i...  \n5000                                                     \n\n[5001 rows x 2 columns]",
      "text/html": "<div>\n<style scoped>\n    .dataframe tbody tr th:only-of-type {\n        vertical-align: middle;\n    }\n\n    .dataframe tbody tr th {\n        vertical-align: top;\n    }\n\n    .dataframe thead th {\n        text-align: right;\n    }\n</style>\n<table border=\"1\" class=\"dataframe\">\n  <thead>\n    <tr style=\"text-align: right;\">\n      <th></th>\n      <th>eng</th>\n      <th>swahili</th>\n    </tr>\n  </thead>\n  <tbody>\n    <tr>\n      <th>0</th>\n      <td>is that your new friend</td>\n      <td>huyo ni rafiki yako mpya</td>\n    </tr>\n    <tr>\n      <th>1</th>\n      <td>jacob wasnt interested in baseball</td>\n      <td>job hana hamu ya mpira wa vikapu</td>\n    </tr>\n    <tr>\n      <th>2</th>\n      <td>adam told me that alice had a new boyfriend</td>\n      <td>adam aliniambia kuwa alice alikuwa na mpenzi m...</td>\n    </tr>\n    <tr>\n      <th>3</th>\n      <td>the radio didnt inform about the accident</td>\n      <td>radio haikutanga kuhusu ajali hiyo</td>\n    </tr>\n    <tr>\n      <th>4</th>\n      <td>adam is worried well get lost</td>\n      <td>adamu ana wasiwasi tutapotea</td>\n    </tr>\n    <tr>\n      <th>...</th>\n      <td>...</td>\n      <td>...</td>\n    </tr>\n    <tr>\n      <th>4996</th>\n      <td>cmon lets eat something</td>\n      <td>njoo wacha tule kitu</td>\n    </tr>\n    <tr>\n      <th>4997</th>\n      <td>the essence of all art is to have pleasure in ...</td>\n      <td>kiini cha sanaa yote ni kuwa na furaha katika ...</td>\n    </tr>\n    <tr>\n      <th>4998</th>\n      <td>as i entered the coffee bar i found two young ...</td>\n      <td>nilipoingia kwenye mkahawa nilipata vijana waw...</td>\n    </tr>\n    <tr>\n      <th>4999</th>\n      <td>when you swallow a dangerous substance what yo...</td>\n      <td>unapomeza dutu hatari kile unahitaji kufanya i...</td>\n    </tr>\n    <tr>\n      <th>5000</th>\n      <td></td>\n      <td></td>\n    </tr>\n  </tbody>\n</table>\n<p>5001 rows × 2 columns</p>\n</div>"
     },
     "execution_count": 12,
     "metadata": {},
     "output_type": "execute_result"
    }
   ],
   "source": [
    "en_swahili[\"eng\"] = en_swahili.eng.apply(clean_text)\n",
    "en_swahili[\"swahili\"] =en_swahili.swahili.apply(clean_text)\n",
    "en_swahili"
   ],
   "metadata": {
    "collapsed": false,
    "ExecuteTime": {
     "end_time": "2024-04-03T23:59:27.842175258Z",
     "start_time": "2024-04-03T23:59:27.784611126Z"
    }
   },
   "id": "2a2d9e0cc676bd3",
   "execution_count": 12
  },
  {
   "cell_type": "code",
   "outputs": [
    {
     "data": {
      "text/plain": "                                                 English  \\\n0      All refugees were requested to register with t...   \n1         They called for a refugees' meeting yesterday.   \n2      Refugees had misunderstandings between   thems...   \n3      We were urged to welcome refugees into our com...   \n4      More development is achieved when we work toge...   \n...                                                  ...   \n15995                                                NaN   \n15996                                                NaN   \n15997                                                NaN   \n15998                                                NaN   \n15999                                                NaN   \n\n                                                 Luganda  \n0      Abanoonyiboobubudamu bonna baasabiddwa beewand...  \n1      Baayise olukungaana lw'abanoonyiboobubudamu eg...  \n2      Abanoonyiboobubudamu b'abadde n'obutakkaanya w...  \n3      Twakubirizibwa okwaniriza abanoonyiboobubudamu...  \n4      Bwe tukolera awamu enkulaakulana enyingi efuni...  \n...                                                  ...  \n15995                                                NaN  \n15996                                                NaN  \n15997                                                NaN  \n15998                                                NaN  \n15999                                                NaN  \n\n[16000 rows x 2 columns]",
      "text/html": "<div>\n<style scoped>\n    .dataframe tbody tr th:only-of-type {\n        vertical-align: middle;\n    }\n\n    .dataframe tbody tr th {\n        vertical-align: top;\n    }\n\n    .dataframe thead th {\n        text-align: right;\n    }\n</style>\n<table border=\"1\" class=\"dataframe\">\n  <thead>\n    <tr style=\"text-align: right;\">\n      <th></th>\n      <th>English</th>\n      <th>Luganda</th>\n    </tr>\n  </thead>\n  <tbody>\n    <tr>\n      <th>0</th>\n      <td>All refugees were requested to register with t...</td>\n      <td>Abanoonyiboobubudamu bonna baasabiddwa beewand...</td>\n    </tr>\n    <tr>\n      <th>1</th>\n      <td>They called for a refugees' meeting yesterday.</td>\n      <td>Baayise olukungaana lw'abanoonyiboobubudamu eg...</td>\n    </tr>\n    <tr>\n      <th>2</th>\n      <td>Refugees had misunderstandings between   thems...</td>\n      <td>Abanoonyiboobubudamu b'abadde n'obutakkaanya w...</td>\n    </tr>\n    <tr>\n      <th>3</th>\n      <td>We were urged to welcome refugees into our com...</td>\n      <td>Twakubirizibwa okwaniriza abanoonyiboobubudamu...</td>\n    </tr>\n    <tr>\n      <th>4</th>\n      <td>More development is achieved when we work toge...</td>\n      <td>Bwe tukolera awamu enkulaakulana enyingi efuni...</td>\n    </tr>\n    <tr>\n      <th>...</th>\n      <td>...</td>\n      <td>...</td>\n    </tr>\n    <tr>\n      <th>15995</th>\n      <td>NaN</td>\n      <td>NaN</td>\n    </tr>\n    <tr>\n      <th>15996</th>\n      <td>NaN</td>\n      <td>NaN</td>\n    </tr>\n    <tr>\n      <th>15997</th>\n      <td>NaN</td>\n      <td>NaN</td>\n    </tr>\n    <tr>\n      <th>15998</th>\n      <td>NaN</td>\n      <td>NaN</td>\n    </tr>\n    <tr>\n      <th>15999</th>\n      <td>NaN</td>\n      <td>NaN</td>\n    </tr>\n  </tbody>\n</table>\n<p>16000 rows × 2 columns</p>\n</div>"
     },
     "execution_count": 13,
     "metadata": {},
     "output_type": "execute_result"
    }
   ],
   "source": [
    "en_lug = pd.read_csv(\"../data/eng-lug.csv\", encoding='latin-1').iloc[:,:2]\n",
    "en_lug"
   ],
   "metadata": {
    "collapsed": false,
    "ExecuteTime": {
     "end_time": "2024-04-03T23:59:28.027971164Z",
     "start_time": "2024-04-03T23:59:28.026526620Z"
    }
   },
   "id": "69b45ec41a29f0ee",
   "execution_count": 13
  },
  {
   "cell_type": "code",
   "outputs": [],
   "source": [
    "\n"
   ],
   "metadata": {
    "collapsed": false,
    "ExecuteTime": {
     "end_time": "2024-04-03T23:59:28.243329662Z",
     "start_time": "2024-04-03T23:59:28.216676696Z"
    }
   },
   "id": "509419f51363af30",
   "execution_count": 13
  },
  {
   "cell_type": "code",
   "outputs": [
    {
     "data": {
      "text/plain": "                                                 English  \\\n0      all refugees were requested to register with t...   \n1           they called for a refugees meeting yesterday   \n2      refugees had misunderstandings between   thems...   \n3      we were urged to welcome refugees into our com...   \n4      more development is achieved when we work toge...   \n...                                                  ...   \n15017  senior officials exaggerated the numbers to mi...   \n15018  there is a high risk in the spread of diseases...   \n15019     they were relocated to another settlement camp   \n15020  some people who flee from south sudan already ...   \n15021  the district officer has advised the people to...   \n\n                                                 Luganda  \n0      abanoonyiboobubudamu bonna baasabiddwa beewand...  \n1      baayise olukungaana lwabanoonyiboobubudamu eggulo  \n2      abanoonyiboobubudamu babadde nobutakkaanya wak...  \n3      twakubirizibwa okwaniriza abanoonyiboobubudamu...  \n4      bwe tukolera awamu enkulaakulana enyingi efunibwa  \n...                                                  ...  \n15017  abakungu aboku ntikko baayongeza omuwendo okwe...  \n15018  akatyabaga kokusaasaana kwendwadde mu nkambi k...  \n15019         baasengulwa ne batwalibwa mu nkambi endala  \n15020  abantu abamu abava mu south sudan balina abeng...  \n15021  omukungu wa disitulikiti awadde abantu amagezi...  \n\n[15021 rows x 2 columns]",
      "text/html": "<div>\n<style scoped>\n    .dataframe tbody tr th:only-of-type {\n        vertical-align: middle;\n    }\n\n    .dataframe tbody tr th {\n        vertical-align: top;\n    }\n\n    .dataframe thead th {\n        text-align: right;\n    }\n</style>\n<table border=\"1\" class=\"dataframe\">\n  <thead>\n    <tr style=\"text-align: right;\">\n      <th></th>\n      <th>English</th>\n      <th>Luganda</th>\n    </tr>\n  </thead>\n  <tbody>\n    <tr>\n      <th>0</th>\n      <td>all refugees were requested to register with t...</td>\n      <td>abanoonyiboobubudamu bonna baasabiddwa beewand...</td>\n    </tr>\n    <tr>\n      <th>1</th>\n      <td>they called for a refugees meeting yesterday</td>\n      <td>baayise olukungaana lwabanoonyiboobubudamu eggulo</td>\n    </tr>\n    <tr>\n      <th>2</th>\n      <td>refugees had misunderstandings between   thems...</td>\n      <td>abanoonyiboobubudamu babadde nobutakkaanya wak...</td>\n    </tr>\n    <tr>\n      <th>3</th>\n      <td>we were urged to welcome refugees into our com...</td>\n      <td>twakubirizibwa okwaniriza abanoonyiboobubudamu...</td>\n    </tr>\n    <tr>\n      <th>4</th>\n      <td>more development is achieved when we work toge...</td>\n      <td>bwe tukolera awamu enkulaakulana enyingi efunibwa</td>\n    </tr>\n    <tr>\n      <th>...</th>\n      <td>...</td>\n      <td>...</td>\n    </tr>\n    <tr>\n      <th>15017</th>\n      <td>senior officials exaggerated the numbers to mi...</td>\n      <td>abakungu aboku ntikko baayongeza omuwendo okwe...</td>\n    </tr>\n    <tr>\n      <th>15018</th>\n      <td>there is a high risk in the spread of diseases...</td>\n      <td>akatyabaga kokusaasaana kwendwadde mu nkambi k...</td>\n    </tr>\n    <tr>\n      <th>15019</th>\n      <td>they were relocated to another settlement camp</td>\n      <td>baasengulwa ne batwalibwa mu nkambi endala</td>\n    </tr>\n    <tr>\n      <th>15020</th>\n      <td>some people who flee from south sudan already ...</td>\n      <td>abantu abamu abava mu south sudan balina abeng...</td>\n    </tr>\n    <tr>\n      <th>15021</th>\n      <td>the district officer has advised the people to...</td>\n      <td>omukungu wa disitulikiti awadde abantu amagezi...</td>\n    </tr>\n  </tbody>\n</table>\n<p>15021 rows × 2 columns</p>\n</div>"
     },
     "execution_count": 14,
     "metadata": {},
     "output_type": "execute_result"
    }
   ],
   "source": [
    "en_lug.dropna(inplace=True)\n",
    "en_lug[\"English\"] = en_lug.English.apply(clean_text)\n",
    "en_lug[\"Luganda\"] = en_lug.Luganda.apply(clean_text)\n",
    "en_lug"
   ],
   "metadata": {
    "collapsed": false,
    "ExecuteTime": {
     "end_time": "2024-04-03T23:59:29.762491040Z",
     "start_time": "2024-04-03T23:59:29.616204722Z"
    }
   },
   "id": "74c109e5f638eadf",
   "execution_count": 14
  },
  {
   "cell_type": "code",
   "outputs": [],
   "source": [
    "strings = \" \".join(en_kikuyu.kikuyu) + \" \".join(en_swahili.swahili) + \" \".join(en_lug.Luganda)\n",
    "tokens = Counter(strings.split())"
   ],
   "metadata": {
    "collapsed": false,
    "ExecuteTime": {
     "end_time": "2024-04-03T23:59:32.201376236Z",
     "start_time": "2024-04-03T23:59:32.198298673Z"
    }
   },
   "id": "bffa97c2a978aa4a",
   "execution_count": 15
  },
  {
   "cell_type": "code",
   "outputs": [
    {
     "data": {
      "text/plain": "32810"
     },
     "execution_count": 16,
     "metadata": {},
     "output_type": "execute_result"
    }
   ],
   "source": [
    "len(tokens)"
   ],
   "metadata": {
    "collapsed": false,
    "ExecuteTime": {
     "end_time": "2024-04-03T23:59:33.355804087Z",
     "start_time": "2024-04-03T23:59:33.344814570Z"
    }
   },
   "id": "967f6db4e115ef3c",
   "execution_count": 16
  },
  {
   "cell_type": "code",
   "outputs": [],
   "source": [
    "keys_with_value_1 = [key for key, value in tokens.items() if value == 1]\n",
    "new_tokens = {key: value for key, value in tokens.items() if value != 1}"
   ],
   "metadata": {
    "collapsed": false,
    "ExecuteTime": {
     "end_time": "2024-04-03T23:59:34.046068828Z",
     "start_time": "2024-04-03T23:59:34.042703229Z"
    }
   },
   "id": "dfeedacef6525363",
   "execution_count": 17
  },
  {
   "cell_type": "code",
   "outputs": [
    {
     "data": {
      "text/plain": "20578"
     },
     "execution_count": 18,
     "metadata": {},
     "output_type": "execute_result"
    }
   ],
   "source": [
    "len(keys_with_value_1)"
   ],
   "metadata": {
    "collapsed": false,
    "ExecuteTime": {
     "end_time": "2024-04-03T23:59:34.896813191Z",
     "start_time": "2024-04-03T23:59:34.891204207Z"
    }
   },
   "id": "1a7f3755bb4298c2",
   "execution_count": 18
  },
  {
   "cell_type": "code",
   "outputs": [],
   "source": [
    "# tokens = \"\\n\".join(list(new_tokens.keys()))"
   ],
   "metadata": {
    "collapsed": false,
    "ExecuteTime": {
     "end_time": "2024-04-03T23:59:37.039740585Z",
     "start_time": "2024-04-03T23:59:37.033246939Z"
    }
   },
   "id": "b0075ef7d2e3c94a",
   "execution_count": 19
  },
  {
   "cell_type": "code",
   "outputs": [],
   "source": [
    "# with open(\"../data/processed/tokens.txt\", \"w\") as file:\n",
    "    # file.write(tokens)"
   ],
   "metadata": {
    "collapsed": false,
    "ExecuteTime": {
     "end_time": "2024-04-03T21:42:59.669676219Z",
     "start_time": "2024-04-03T21:42:59.628839644Z"
    }
   },
   "id": "6be129535227c2a4",
   "execution_count": 36
  },
  {
   "cell_type": "code",
   "outputs": [],
   "source": [
    "# file"
   ],
   "metadata": {
    "collapsed": false,
    "ExecuteTime": {
     "end_time": "2024-03-22T14:18:51.873410596Z",
     "start_time": "2024-03-22T14:18:51.862097938Z"
    }
   },
   "id": "8f92039602d3dcb1",
   "execution_count": 77
  },
  {
   "cell_type": "code",
   "outputs": [
    {
     "data": {
      "text/plain": "                                                 kikuyu  \\\n0     mariitwa mamwe thiini wa gicunji giki ni macen...   \n1     jehova nirio riitwa ria ngai ta uria riguuriti...   \n2     bibilia yugaga uu   ngoro ya mwana ithaikaniti...   \n3     c  watch tower bible and tract society of penn...   \n4      rora rungu rwa morutani ma bibilia  macokio m...   \n...                                                 ...   \n2694           ngubia ya uhonokio  rora kibungo gia       \n2695  ni nyonete ati andu ni mathikagiriria wega man...   \n2696               ruhiu rwa roho  rora kibungo gia       \n2697  kugerera uteithio wa jehova  no tuhote kwihand...   \n2698                                                      \n\n                                                    eng  \n0         some names in this article have been changed   \n1     jehovah is the name of god as revealed in the ...  \n2     the bible says that  foolishness is bound up i...  \n3     c  watch tower bible and tract society of penn...  \n4      look under bible teachings  bible questions a...  \n...                                                 ...  \n2694        the helmet of salvation  see paragraphs      \n2695  ive found that people respond well when they s...  \n2696        the sword of the spirit  see paragraphs      \n2697  with jehovahs help  we can stand firm against ...  \n2698                                                     \n\n[2699 rows x 2 columns]",
      "text/html": "<div>\n<style scoped>\n    .dataframe tbody tr th:only-of-type {\n        vertical-align: middle;\n    }\n\n    .dataframe tbody tr th {\n        vertical-align: top;\n    }\n\n    .dataframe thead th {\n        text-align: right;\n    }\n</style>\n<table border=\"1\" class=\"dataframe\">\n  <thead>\n    <tr style=\"text-align: right;\">\n      <th></th>\n      <th>kikuyu</th>\n      <th>eng</th>\n    </tr>\n  </thead>\n  <tbody>\n    <tr>\n      <th>0</th>\n      <td>mariitwa mamwe thiini wa gicunji giki ni macen...</td>\n      <td>some names in this article have been changed</td>\n    </tr>\n    <tr>\n      <th>1</th>\n      <td>jehova nirio riitwa ria ngai ta uria riguuriti...</td>\n      <td>jehovah is the name of god as revealed in the ...</td>\n    </tr>\n    <tr>\n      <th>2</th>\n      <td>bibilia yugaga uu   ngoro ya mwana ithaikaniti...</td>\n      <td>the bible says that  foolishness is bound up i...</td>\n    </tr>\n    <tr>\n      <th>3</th>\n      <td>c  watch tower bible and tract society of penn...</td>\n      <td>c  watch tower bible and tract society of penn...</td>\n    </tr>\n    <tr>\n      <th>4</th>\n      <td>rora rungu rwa morutani ma bibilia  macokio m...</td>\n      <td>look under bible teachings  bible questions a...</td>\n    </tr>\n    <tr>\n      <th>...</th>\n      <td>...</td>\n      <td>...</td>\n    </tr>\n    <tr>\n      <th>2694</th>\n      <td>ngubia ya uhonokio  rora kibungo gia</td>\n      <td>the helmet of salvation  see paragraphs</td>\n    </tr>\n    <tr>\n      <th>2695</th>\n      <td>ni nyonete ati andu ni mathikagiriria wega man...</td>\n      <td>ive found that people respond well when they s...</td>\n    </tr>\n    <tr>\n      <th>2696</th>\n      <td>ruhiu rwa roho  rora kibungo gia</td>\n      <td>the sword of the spirit  see paragraphs</td>\n    </tr>\n    <tr>\n      <th>2697</th>\n      <td>kugerera uteithio wa jehova  no tuhote kwihand...</td>\n      <td>with jehovahs help  we can stand firm against ...</td>\n    </tr>\n    <tr>\n      <th>2698</th>\n      <td></td>\n      <td></td>\n    </tr>\n  </tbody>\n</table>\n<p>2699 rows × 2 columns</p>\n</div>"
     },
     "execution_count": 20,
     "metadata": {},
     "output_type": "execute_result"
    }
   ],
   "source": [
    "en_kikuyu"
   ],
   "metadata": {
    "collapsed": false,
    "ExecuteTime": {
     "end_time": "2024-04-03T23:59:52.490127812Z",
     "start_time": "2024-04-03T23:59:52.476131305Z"
    }
   },
   "id": "e1086ed28a084329",
   "execution_count": 20
  },
  {
   "cell_type": "code",
   "outputs": [],
   "source": [
    "processed_data = pd.DataFrame(columns=[\"source\", \"target\"])"
   ],
   "metadata": {
    "collapsed": false,
    "ExecuteTime": {
     "end_time": "2024-04-03T23:59:56.319217388Z",
     "start_time": "2024-04-03T23:59:56.277626991Z"
    }
   },
   "id": "6cc47b232cee7bf1",
   "execution_count": 21
  },
  {
   "cell_type": "code",
   "outputs": [],
   "source": [
    "processed_data[\"source\"] = en_kikuyu.kikuyu.apply(lambda x: \"translate kikuyu to english: \"  + x)\n",
    "processed_data[\"target\"] = en_kikuyu.eng\n",
    "\n",
    "processed_data[\"source\"] = en_kikuyu.eng.apply(lambda x: \"translate english to kikuyu: \"  + x)\n",
    "processed_data[\"target\"] = en_kikuyu.kikuyu"
   ],
   "metadata": {
    "collapsed": false,
    "ExecuteTime": {
     "end_time": "2024-04-03T23:59:56.570021944Z",
     "start_time": "2024-04-03T23:59:56.557353818Z"
    }
   },
   "id": "eb942b26d1f96c84",
   "execution_count": 22
  },
  {
   "cell_type": "code",
   "outputs": [],
   "source": [
    "new_rows = pd.DataFrame({\"source\": en_lug.English.apply(lambda x: \"translate english to luganda: \" + x).values,\n",
    "                         \"target\": en_lug.Luganda.values})\n",
    "\n",
    "processed_data = processed_data._append(new_rows, ignore_index=True)\n",
    "\n",
    "\n",
    "new_rows = pd.DataFrame({\"source\": en_lug.Luganda.apply(lambda x: \"translate luganda to english: \" + x).values,\n",
    "                         \"target\": en_lug.English.values})\n",
    "\n",
    "processed_data = processed_data._append(new_rows, ignore_index=True)"
   ],
   "metadata": {
    "collapsed": false,
    "ExecuteTime": {
     "end_time": "2024-04-03T23:59:58.168034601Z",
     "start_time": "2024-04-03T23:59:58.157022649Z"
    }
   },
   "id": "4f88c425d7930ef5",
   "execution_count": 23
  },
  {
   "cell_type": "code",
   "outputs": [],
   "source": [
    "new_rows = pd.DataFrame({\"source\": en_swahili.eng.apply(lambda x: \"translate english to swahili: \"+ x).values,\n",
    "                         \"target\": en_swahili.swahili.values})\n",
    "\n",
    "processed_data = processed_data._append(new_rows, ignore_index=True)\n",
    "\n",
    "new_rows = pd.DataFrame({\"source\": en_swahili.swahili.apply(lambda x: \"translate swahili to english: \" + x).values,\n",
    "                         \"target\": en_swahili.eng.values})\n",
    "\n",
    "processed_data = processed_data._append(new_rows, ignore_index=True)\n"
   ],
   "metadata": {
    "collapsed": false,
    "ExecuteTime": {
     "end_time": "2024-04-03T23:59:58.432429817Z",
     "start_time": "2024-04-03T23:59:58.395385670Z"
    }
   },
   "id": "df670d2677237234",
   "execution_count": 24
  },
  {
   "cell_type": "code",
   "outputs": [
    {
     "data": {
      "text/plain": "42743"
     },
     "execution_count": 25,
     "metadata": {},
     "output_type": "execute_result"
    }
   ],
   "source": [
    "len(processed_data)"
   ],
   "metadata": {
    "collapsed": false,
    "ExecuteTime": {
     "end_time": "2024-04-03T23:59:59.694573294Z",
     "start_time": "2024-04-03T23:59:59.688799210Z"
    }
   },
   "id": "1a595c7d6b91a2c8",
   "execution_count": 25
  },
  {
   "cell_type": "code",
   "outputs": [
    {
     "data": {
      "text/plain": "                                                  source  \\\n0      translate english to kikuyu: some names in thi...   \n1      translate english to kikuyu: jehovah is the na...   \n2      translate english to kikuyu: the bible says th...   \n3      translate english to kikuyu: c  watch tower bi...   \n4      translate english to kikuyu:  look under bible...   \n...                                                  ...   \n42738  translate swahili to english: njoo wacha tule ...   \n42739  translate swahili to english: kiini cha sanaa ...   \n42740  translate swahili to english: nilipoingia kwen...   \n42741  translate swahili to english: unapomeza dutu h...   \n42742                     translate swahili to english:    \n\n                                                  target  \n0      mariitwa mamwe thiini wa gicunji giki ni macen...  \n1      jehova nirio riitwa ria ngai ta uria riguuriti...  \n2      bibilia yugaga uu   ngoro ya mwana ithaikaniti...  \n3      c  watch tower bible and tract society of penn...  \n4       rora rungu rwa morutani ma bibilia  macokio m...  \n...                                                  ...  \n42738                            cmon lets eat something  \n42739  the essence of all art is to have pleasure in ...  \n42740  as i entered the coffee bar i found two young ...  \n42741  when you swallow a dangerous substance what yo...  \n42742                                                     \n\n[42743 rows x 2 columns]",
      "text/html": "<div>\n<style scoped>\n    .dataframe tbody tr th:only-of-type {\n        vertical-align: middle;\n    }\n\n    .dataframe tbody tr th {\n        vertical-align: top;\n    }\n\n    .dataframe thead th {\n        text-align: right;\n    }\n</style>\n<table border=\"1\" class=\"dataframe\">\n  <thead>\n    <tr style=\"text-align: right;\">\n      <th></th>\n      <th>source</th>\n      <th>target</th>\n    </tr>\n  </thead>\n  <tbody>\n    <tr>\n      <th>0</th>\n      <td>translate english to kikuyu: some names in thi...</td>\n      <td>mariitwa mamwe thiini wa gicunji giki ni macen...</td>\n    </tr>\n    <tr>\n      <th>1</th>\n      <td>translate english to kikuyu: jehovah is the na...</td>\n      <td>jehova nirio riitwa ria ngai ta uria riguuriti...</td>\n    </tr>\n    <tr>\n      <th>2</th>\n      <td>translate english to kikuyu: the bible says th...</td>\n      <td>bibilia yugaga uu   ngoro ya mwana ithaikaniti...</td>\n    </tr>\n    <tr>\n      <th>3</th>\n      <td>translate english to kikuyu: c  watch tower bi...</td>\n      <td>c  watch tower bible and tract society of penn...</td>\n    </tr>\n    <tr>\n      <th>4</th>\n      <td>translate english to kikuyu:  look under bible...</td>\n      <td>rora rungu rwa morutani ma bibilia  macokio m...</td>\n    </tr>\n    <tr>\n      <th>...</th>\n      <td>...</td>\n      <td>...</td>\n    </tr>\n    <tr>\n      <th>42738</th>\n      <td>translate swahili to english: njoo wacha tule ...</td>\n      <td>cmon lets eat something</td>\n    </tr>\n    <tr>\n      <th>42739</th>\n      <td>translate swahili to english: kiini cha sanaa ...</td>\n      <td>the essence of all art is to have pleasure in ...</td>\n    </tr>\n    <tr>\n      <th>42740</th>\n      <td>translate swahili to english: nilipoingia kwen...</td>\n      <td>as i entered the coffee bar i found two young ...</td>\n    </tr>\n    <tr>\n      <th>42741</th>\n      <td>translate swahili to english: unapomeza dutu h...</td>\n      <td>when you swallow a dangerous substance what yo...</td>\n    </tr>\n    <tr>\n      <th>42742</th>\n      <td>translate swahili to english:</td>\n      <td></td>\n    </tr>\n  </tbody>\n</table>\n<p>42743 rows × 2 columns</p>\n</div>"
     },
     "execution_count": 26,
     "metadata": {},
     "output_type": "execute_result"
    }
   ],
   "source": [
    "processed_data"
   ],
   "metadata": {
    "collapsed": false,
    "ExecuteTime": {
     "end_time": "2024-04-04T00:00:00.521121736Z",
     "start_time": "2024-04-04T00:00:00.505226167Z"
    }
   },
   "id": "790f87c6fc3be688",
   "execution_count": 26
  },
  {
   "cell_type": "code",
   "outputs": [],
   "source": [],
   "metadata": {
    "collapsed": false,
    "ExecuteTime": {
     "end_time": "2024-04-04T00:00:02.438078366Z",
     "start_time": "2024-04-04T00:00:02.434265684Z"
    }
   },
   "id": "6c57f41cfeb4619b",
   "execution_count": 26
  },
  {
   "cell_type": "code",
   "outputs": [],
   "source": [
    "# processed_data.to_csv(\"../data/processed/processed_data.csv\")"
   ],
   "metadata": {
    "collapsed": false,
    "ExecuteTime": {
     "end_time": "2024-04-04T00:00:04.273969384Z",
     "start_time": "2024-04-04T00:00:04.179985817Z"
    }
   },
   "id": "f01945ad18667379",
   "execution_count": 27
  },
  {
   "cell_type": "code",
   "outputs": [],
   "source": [],
   "metadata": {
    "collapsed": false,
    "ExecuteTime": {
     "end_time": "2024-03-23T17:04:31.821082163Z",
     "start_time": "2024-03-23T17:04:31.769910107Z"
    }
   },
   "id": "191f93b3117f20a6",
   "execution_count": 137
  },
  {
   "cell_type": "code",
   "outputs": [],
   "source": [
    "# with open(\"../data/processed/tokens.txt\", \"r\") as file:\n",
    "#     f = file.read()"
   ],
   "metadata": {
    "collapsed": false,
    "ExecuteTime": {
     "end_time": "2024-04-03T21:52:43.829944827Z",
     "start_time": "2024-04-03T21:52:43.818763698Z"
    }
   },
   "id": "33038bde308ec31d",
   "execution_count": 53
  },
  {
   "cell_type": "code",
   "outputs": [
    {
     "data": {
      "text/plain": "['mariitwa',\n 'mamwe',\n 'thiini',\n 'wa',\n 'gicunji',\n 'giki',\n 'ni',\n 'macenjetio',\n 'jehova',\n 'nirio',\n 'riitwa',\n 'ria',\n 'ngai',\n 'ta',\n 'uria',\n 'bibilia',\n 'yugaga',\n 'uu',\n 'ngoro',\n 'ya',\n 'mwana',\n 'na',\n 'c',\n 'watch',\n 'tower',\n 'bible',\n 'and',\n 'tract',\n 'society',\n 'of',\n 'pennsylvania',\n 'rora',\n 'rungu',\n 'rwa',\n 'morutani',\n 'ma',\n 'macokio',\n 'ciuria',\n 'cia',\n 'iri',\n 'kia',\n 'wira',\n 'thi',\n 'yothe',\n 'kuruta',\n 'andu',\n 'mbere',\n 'mihothi',\n 'niguo',\n 'no',\n 'uhingure',\n 'jworg',\n 'ki',\n 'o',\n 'tiga',\n 'haria',\n 'undu',\n 'ungi',\n 'ri',\n 'maandiko',\n 'maria',\n 'mothe',\n 'moimite',\n 'hari',\n 'the',\n 'in',\n 'gikuyu',\n 'new',\n 'world',\n 'translation',\n 'mathayo',\n 'kuguuririo',\n 'uritu',\n 'uri',\n 'mundu',\n 'utumaga',\n 'indi',\n 'wega',\n 'gukena',\n 'gutumaga',\n 'thoma',\n 'akorintho',\n 'aatuire',\n 'mawira',\n 'mega',\n 'indo',\n 'tukwaririria',\n 'uhoro',\n 'uriku',\n 'riri',\n 'niki',\n 'b',\n 'iriku',\n 'thimo',\n 'maundu',\n 'mariku',\n 'tukaaririria',\n 'kiria',\n 'kirumiriire',\n 'kiam',\n 'ahibirania',\n 'gikaaririria',\n 'wi',\n 'muoyo',\n 'uhoti',\n 'ahib',\n 'tito',\n 'aroma',\n 'isaia',\n 'thaburi',\n 'jesu',\n 'oigire',\n 'gutiri',\n 'ungihota',\n 'kuri',\n 'nii',\n 'ithe',\n 'witu',\n 'petero',\n 'aefeso',\n 'ricabitwo',\n 'aira',\n 'a',\n 'riu',\n 'hihi',\n 'kinyi',\n 'icunji',\n 'ica',\n 'ikuhi',\n 'murangiri',\n 'gutuma',\n 'ati',\n 'iyo',\n 'tondu',\n 'mawatho',\n 'mabururi',\n 'igooti',\n 'matiganite',\n 'bata',\n 'kwaraniria',\n 'ui',\n 'watho',\n 'njira',\n 'iria',\n 'njega',\n 'nyumba',\n 'migunda',\n 'ruhonge',\n 'ruhuthagiruo',\n 'iheo',\n 'imwe',\n 'kwa',\n 'kana',\n 'angikoruo',\n 'guikara',\n 'muheani',\n 'eguthii',\n 'wayo',\n 'hindi',\n 'egukoruo',\n 'marua',\n 'kwigaya',\n 'uramati',\n 'mbeca',\n 'kugerera',\n 'ruu',\n 'ciugo',\n 'mubango',\n 'ironania',\n 'mithemba',\n 'mibango',\n 'uhote',\n 'gucokia',\n 'ici',\n 'ini',\n 'irima',\n 'thirikari',\n 'inyui',\n 'maithe',\n 'ciana',\n 'cianyu',\n 'wone',\n 'makiria',\n 'gia',\n 'ibuku',\n 'irutanaga',\n 'atia',\n 'kuna',\n 'riria',\n 'aamerire',\n 'ucio',\n 'thiii',\n 'nduriri',\n 'ciothe',\n 'matuike',\n 'arutwo',\n 'akwa',\n 'atiriri',\n 'ndi',\n 'hamwe',\n 'mithenya',\n 'nginya',\n 'mahinda',\n 'maya',\n 'timotheo',\n 'wendete',\n 'wee',\n 'guku',\n 'kuu',\n 'iguru',\n 'luka',\n 'hingo',\n 'io',\n 'aria',\n 'mari',\n 'nao',\n 'ituura',\n 'magakoruo',\n 'ihinda',\n 'athesalonike',\n 'athini',\n 'cira',\n 'uthingu',\n 'ahoreri',\n 'kihooto',\n 'athingu',\n 'nio',\n 'makagaya',\n 'gutuura',\n 'mamituure',\n 'tene',\n 'witikio',\n 'kuria',\n 'utonga',\n 'waku',\n 'nikuo',\n 'yaku',\n 'nayo',\n 'ikoragwo',\n 'wekire',\n 'uguo',\n 'mwega',\n 'kirindi',\n 'ari',\n 'we',\n 'wakio',\n 'thab',\n 'jakubu',\n 'aandikire',\n 'mwiri',\n 'mehia',\n 'gutungatira',\n 'nuhu',\n 'aari',\n 'ningi',\n 'mukinyaniru',\n 'riake',\n 'e',\n 'muthiritu',\n 'utari',\n 'muugi',\n 'wothe',\n 'monanitie',\n 'uma',\n 'mithiire',\n 'yake',\n 'mwene',\n 'makinya',\n 'make',\n 'gukoruo',\n 'icoki',\n 'riakwa',\n 'wakwa',\n 'muhuthu',\n 'kungituika',\n 'riaku',\n 'urio',\n 'tungiiruta',\n 'kuuma',\n 'muno',\n 'guthii',\n 'kwendana',\n 'ariu',\n 'nyina',\n 'umwe',\n 'kii',\n 'giatumire',\n 'paulo',\n 'akristiano',\n 'twagiriiruo',\n 'gwiciria',\n 'riandiko',\n 'mwaka',\n 'uyu',\n 'ririku',\n 'riagiriire',\n 'muhari',\n 'gitumi',\n 'kinene',\n 'kiriku',\n 'heana',\n 'kingi',\n 'kironania',\n 'gwikira',\n 'wendo',\n 'hinya',\n 'aatariirie',\n 'iritu',\n 'gwika',\n 'thina',\n 'munene',\n 'mieke',\n 'turi',\n 'kuonania',\n 'twendanite',\n 'ngerekano',\n 'tungionania',\n 'njera',\n 'ririkanagai',\n 'rekei',\n 'kihiko',\n 'gitio',\n 'othe',\n 'kuiganira',\n 'gikristiano',\n 'muri',\n 'nacio',\n 'umiriru',\n 'gututeithagia',\n 'tungika',\n 'twikire',\n 'kwerekera',\n 'athuri',\n 'kiungano',\n 'matongoragia',\n 'tungihota',\n 'kristo',\n 'ututindikaga',\n 'kwenda',\n 'wohaniri',\n 'wagiriiruo',\n 'kiheo',\n 'gutari',\n 'ingitaariria',\n 'gitarii',\n 'uiguaga',\n 'mwanya',\n 'kingituma',\n 'mutuurire',\n 'ukuuri',\n 'gukira',\n 'giothe',\n 'irathimo',\n 'wiriragiria',\n 'gweta',\n 'matatu',\n 'tuigue',\n 'nake',\n 'awa',\n 'joh',\n 'tungiiyuria',\n 'kiririkano',\n 'cio',\n 'ututeithagia',\n 'kuhunjia',\n 'guteithia',\n 'angi',\n 'mangi',\n 'kionereria',\n 'uteithie',\n 'muru',\n 'mwari',\n 'mukuru',\n 'utungata',\n 'ungika',\n 'kuumana',\n 'igii',\n 'muthamaki',\n 'ngombo',\n 'thutha',\n 'gwicurania',\n 'utuite',\n 'wateithirie',\n 'gukiririria',\n 'kwaga',\n 'gukinyanira',\n 'ndiriragiria',\n 'atuheete',\n 'kibungo',\n 'muthenya',\n 'pentekoste',\n 'ukoruo',\n 'macio',\n 'warathitwo',\n 'gukenio',\n 'meekikire',\n 'ungikoruo',\n 'miaka',\n 'miingi',\n 'tumenyaga',\n 'maitagiririo',\n 'maguta',\n 'itiganite',\n 'aitiririe',\n 'mamukagira',\n 'mukristiano',\n 'muitiririe',\n 'aataariirie',\n 'wanyu',\n 'guthuuruo',\n 'mungithii',\n 'uthamaki',\n 'mwathani',\n 'muritu',\n 'aingi',\n 'gutaukiruo',\n 'biu',\n 'guthiaga',\n 'amenyaga',\n 'riitana',\n 'roho',\n 'ukombo',\n 'ringi',\n 'baba',\n 'guo',\n 'uira',\n 'johana',\n 'kumaruta',\n 'kiuria',\n 'atakoragwo',\n 'nganja',\n 'naguo',\n 'mwiciririe',\n 'gitumaga',\n 'kuuga',\n 'acio',\n 'gukua',\n 'ti',\n 'makoragwo',\n 'kiirigiriro',\n 'urathi',\n 'zekaria',\n 'urahinga',\n 'turatuura',\n 'tutingihota',\n 'kumenya',\n 'magaakoruo',\n 'itari',\n 'mukaana',\n 'magiriiruo',\n 'mawoni',\n 'mugate',\n 'ndibei',\n 'nduri',\n 'eerire',\n 'ake',\n 'inyuothe',\n 'ugwati',\n 'tungiithema',\n 'tungiaga',\n 'amwe',\n 'tutiagiriiruo',\n 'gutangika',\n 'wongerereku',\n 'makanyua',\n 'oi',\n 'wigii',\n 'turabatara',\n 'megii',\n 'karine',\n 'aahuthirire',\n 'anini',\n 'tu',\n 'kwandika',\n 'kingiriki',\n 'tukuhiririe',\n 'tugakuhiriria',\n 'gutuika',\n 'niwe',\n 'akoretwo',\n 'ugeni',\n 'araika',\n 'meke',\n 'aaheire',\n 'adamu',\n 'gutua',\n 'kuhingia',\n 'wendi',\n 'wake',\n 'tukoragwo',\n 'itemi',\n 'waguo',\n 'muhaka',\n 'mutumwo',\n 'utugi',\n 'muoroto',\n 'muriu',\n 'aaiguaga',\n 'gikeno',\n 'kurutithania',\n 'utungataga',\n 'bururi',\n 'kiugo',\n 'giake',\n 'ingi',\n 'kiiroho',\n 'atuheaga',\n 'atwendete',\n 'tumwikagira',\n 'tuone',\n 'kiyo',\n 'gitu',\n 'nikio',\n 'ngenagira',\n 'utuuro',\n 'ukagia',\n 'ukuruhanu',\n 'wakoragwo',\n 'utarii',\n 'kindu',\n 'kimwe',\n 'ithui',\n 'twirutaga',\n 'kurumirira',\n 'utongoria',\n 'njeru',\n 'australia',\n 'aiguaga',\n 'rigii',\n 'joel',\n 'uikaraga',\n 'undeithagia',\n 'kuona',\n 'matarii',\n 'mathina',\n 'namo',\n 'kuhuthira',\n 'mootaro',\n 'mwinyihia',\n 'mweke',\n 'kwihoka',\n 'gwitu',\n 'ukonainie',\n 'maathani',\n 'manene',\n 'keri',\n 'wendage',\n 'wiyendete',\n 'wonaga',\n 'nakio',\n 'ndakuhe',\n 'giakwa',\n 'uteithio',\n 'githomo',\n 'twike',\n 'ngathiti',\n 'ino',\n 'waganu',\n 'paradiso',\n 'metikie',\n 'wakuire',\n 'nigetha',\n 'tugie',\n 'giuteti',\n 'niyo',\n 'muthingi',\n 'bebe',\n 'wao',\n 'icio',\n 'murata',\n 'famili',\n 'yao',\n 'handu',\n 'ha',\n 'iigana',\n 'una',\n 'ihooru',\n 'aacokire',\n 'iraihu',\n 'atari',\n 'ukuite',\n 'hakuhi',\n 'gikuu',\n 'thu',\n 'muico',\n 'gugiithema',\n 'tuterigiriire',\n 'endwa',\n 'aitu',\n 'moimiriro',\n 'kio',\n 'tutibatii',\n 'tungiona',\n 'kuhiurania',\n 'kuhoteke',\n 'waneyuria',\n 'makuiriiruo',\n 'makuite',\n 'ndwari',\n 'nene',\n 'inini',\n 'wicirie',\n 'iburahimu',\n 'eekire',\n 'mutumia',\n 'akua',\n 'akiambiriria',\n 'gucakaya',\n 'kurira',\n 'sara',\n 'akihiurania',\n 'gukuiruo',\n 'aagiire',\n 'matuku',\n 'maingi',\n 'jusufu',\n 'giatumaga',\n 'akoruo',\n 'inene',\n 'kiambiriria',\n 'muthuri',\n 'robert',\n 'aakuire',\n 'julai',\n 'itandatu',\n 'ngoragwo',\n 'ruo',\n 'gail',\n 'mihituku',\n 'ngaigua',\n 'ngaambiriria',\n 'hatari',\n 'nduire',\n 'kuigua',\n 'onanagia',\n 'uugi',\n 'tubatii',\n 'gwithema',\n 'ene',\n 'wigerekanie',\n 'kiri',\n 'kionanitie',\n 'isaaka',\n 'itatu',\n 'makwire',\n 'hanini',\n 'wonanie',\n 'iheanaga',\n 'utaaro',\n 'mbaru',\n 'uthuthuria',\n 'unduire',\n 'matiagiriiruo',\n 'maithori',\n 'ataaramu',\n 'guguteithie',\n 'uuru',\n 'lazaro',\n 'kaingi',\n 'marakara',\n 'itumi',\n 'nyingi',\n 'ingituma',\n 'ukuiriiruo',\n 'aigue',\n 'mike',\n 'south',\n 'africa',\n 'ndaari',\n 'mathiko',\n 'muhunjia',\n 'kanitha',\n 'abataraga',\n 'ega',\n 'watumire',\n 'uhiuranagia',\n 'mahitia',\n 'amwendaga',\n 'aciaragwo',\n 'atuike',\n 'minyamaro',\n 'muumbi',\n 'mahoya',\n 'mekaga',\n 'meciria',\n 'mao',\n 'ciao',\n 'thayu',\n 'ukirite',\n 'utauku',\n 'gikoragwo',\n 'kuumiriria',\n 'utuku',\n 'wiki',\n 'toro',\n 'jack',\n 'kurwara',\n 'kansa',\n 'ataaragiria',\n 'ndiiguaga',\n 'maita',\n 'ngoruo',\n 'guthoma',\n 'yakwa',\n 'njiguaga',\n 'ndagia',\n 'gukoma',\n 'muiritu',\n 'witagwo',\n 'mami',\n 'oigaga',\n 'ndaiguaga',\n 'aathikagiriria',\n 'makwa',\n 'ndaabataraga',\n 'kwirutira',\n 'muingi',\n 'kurehe',\n 'monete',\n 'mahote',\n 'tha',\n 'ndungata',\n 'ciake',\n 'ayubu',\n 'eraniire',\n 'waigua',\n 'endete',\n 'rimwe',\n 'tugwika',\n 'kwoguo',\n 'tuhote',\n 'kumateithia',\n 'kumeera',\n 'guoko',\n 'arenda',\n 'kwaria',\n 'kuruga',\n 'ciiko',\n 'ngumo',\n 'ndeereti',\n 'itume',\n 'wakuiriiruo',\n 'ian',\n 'manjiraga',\n 'ndiamoi',\n 'njigue',\n 'thiku',\n 'arata',\n 'ao',\n 'tigagirira',\n 'maracakaya',\n 'makenagira',\n 'kieha',\n 'japan',\n 'kaori',\n 'mieri',\n 'maathire',\n 'kumuteithia',\n 'ritsuko',\n 'aatuikire',\n 'oe',\n 'ithenya',\n 'take',\n 'ndaiguire',\n 'ndenda',\n 'kiumia',\n 'twathiaga',\n 'tugathii',\n 'micemanio',\n 'irio',\n 'kandi',\n 'muonere',\n 'wandeithirie',\n 'iiri',\n 'umuthi',\n 'ahunjia',\n 'mucii',\n 'poli',\n 'muira',\n 'wetagwo',\n 'sozos',\n 'aigire',\n 'kiega',\n 'aciari',\n 'atumia',\n 'ndigwa',\n 'kwao',\n 'makoruo',\n 'makiambiriria',\n 'kunyitanira',\n 'aririkanaga',\n 'kiu',\n 'ndaathire',\n 'twakoretwo',\n 'moritu',\n 'twari',\n 'gutuumiriria',\n 'gutuhe',\n 'wari',\n 'aabataraga',\n 'maatongoragia',\n 'monanagia',\n 'maakenagio',\n 'daniel',\n 'agithii',\n 'gwikenia',\n 'guthaka',\n 'marathii',\n 'tungihuthira',\n 'mokite',\n 'tariki',\n 'kwahoteka',\n 'arabatara',\n 'hau',\n 'muthuriwe',\n 'gukaamuona',\n 'kiiraniro',\n 'ituike',\n 'uuma',\n 'atumwo',\n 'riroka',\n 'mbirira',\n 'mugambo',\n 'kuo',\n 'agakoruo',\n 'nyama',\n 'ngatho',\n 'ciiraniro',\n 'ugie',\n 'guguteithia',\n 'uthii',\n 'wende',\n 'kwiruta',\n 'ungihiurania',\n 'moru',\n 'intaneti',\n 'maitho',\n 'ndeerire',\n 'muthigari',\n 'kurega',\n 'mbaara',\n 'ndaaciariiruo',\n 'ohio',\n 'united',\n 'matiari',\n 'ndini',\n 'tuthii',\n 'margaret',\n 'walker',\n 'umotho',\n 'ritu',\n 'kuhunjiria',\n 'guthikiriria',\n 'guka',\n 'maigana',\n 'aanjuririe',\n 'etagwo',\n 'ngimucokeria',\n 'utoi',\n 'akinjira',\n 'uthome',\n 'ngithoma',\n 'ngiona',\n 'ndaambiriirie',\n 'ndeerutire',\n 'kahinda',\n 'kanini',\n 'funzo',\n 'la',\n 'kitabu',\n 'citu',\n 'mucemanio',\n 'ihenya',\n 'murango',\n 'ciumia',\n 'igiri',\n 'njanji',\n 'aanjirire',\n 'koruo',\n 'maisha',\n 'akira',\n 'kiama',\n 'mutiri',\n 'haha',\n 'mwanake',\n 'gutwira',\n 'eetikirire',\n 'kuingira',\n 'njeshi',\n 'ndaahoire',\n 'ngimwira',\n 'ndingihota',\n 'itano',\n 'warumiriire',\n 'thigari',\n 'ngiuma',\n 'nja',\n 'ngithii',\n 'ndirica',\n 'akinjuria',\n 'gaka',\n 'aca',\n 'agicoka',\n 'mabuku',\n 'manyu',\n 'kunyita',\n 'mwena',\n 'twahunjagia',\n 'itu',\n 'ingihota',\n 'aya',\n 'wangenirie',\n 'riugaga',\n 'ngicoka',\n 'gutungata',\n 'betheli',\n 'kigomano',\n 'kiari',\n 'ngenaga',\n 'ngihunjiria',\n 'china',\n 'barabara',\n 'rucini',\n 'brooklyn',\n 'york',\n 'katie',\n 'matunda',\n 'mboga',\n 'ngurani',\n 'ruthiomi',\n 'githungu',\n 'cigana',\n 'thimu',\n 'robison',\n 'akiuga',\n 'riita',\n 'rugano',\n 'ruru',\n 'mwihokeku',\n 'umenyo',\n 'eeyoneire',\n 'ekire',\n 'urata',\n 'gukuria',\n 'magie',\n 'igerio',\n 'riari',\n 'nu',\n 'warutire',\n 'wamuteithirie',\n 'kionanagia',\n 'oonaga',\n 'sodomu',\n 'gomora',\n 'ugitungatira',\n 'kingiguteithia',\n 'itua',\n 'kwigerekania',\n 'cionereria',\n 'ithatu',\n 'ehokeku',\n 'maatuikire',\n 'ruthu',\n 'hezekia',\n 'agatuika',\n 'mariamu',\n 'tungikoruo',\n 'tutuike',\n 'ariku',\n 'aabatarire',\n 'oige',\n 'ungiteithia',\n 'kwiyamurira',\n 'wonanagia',\n 'muthemba',\n 'ethi',\n 'njuru',\n 'athamaki',\n 'juda',\n 'aaheiruo',\n 'ungionekire',\n 'meri',\n 'wamo',\n 'aaririe',\n 'umwigii',\n 'tungiigerekania',\n 'ukai',\n 'mwirute',\n 'mukuhurukio',\n 'tutungatagira',\n 'murori',\n 'murimu',\n 'urathii',\n 'wombire',\n 'ndimutungatire',\n 'igongona',\n 'tukoruo',\n 'eendire',\n 'akiruta',\n 'mumwe',\n ...]"
     },
     "execution_count": 55,
     "metadata": {},
     "output_type": "execute_result"
    }
   ],
   "source": [
    "f.split(\"\\n\")"
   ],
   "metadata": {
    "collapsed": false,
    "ExecuteTime": {
     "end_time": "2024-04-03T21:52:55.690525484Z",
     "start_time": "2024-04-03T21:52:55.666997146Z"
    }
   },
   "id": "35b1e4432a5a8e5a",
   "execution_count": 55
  },
  {
   "cell_type": "code",
   "outputs": [
    {
     "name": "stderr",
     "output_type": "stream",
     "text": [
      "/home/mark/anaconda3/envs/dlml/lib/python3.11/site-packages/tqdm/auto.py:21: TqdmWarning: IProgress not found. Please update jupyter and ipywidgets. See https://ipywidgets.readthedocs.io/en/stable/user_install.html\n",
      "  from .autonotebook import tqdm as notebook_tqdm\n"
     ]
    }
   ],
   "source": [],
   "metadata": {
    "collapsed": false,
    "ExecuteTime": {
     "end_time": "2024-04-03T21:54:04.103285571Z",
     "start_time": "2024-04-03T21:54:03.801551077Z"
    }
   },
   "id": "15718c0eee7ff185",
   "execution_count": 56
  },
  {
   "cell_type": "code",
   "outputs": [],
   "source": [],
   "metadata": {
    "collapsed": false
   },
   "id": "1790ab4e25e0ddbe"
  }
 ],
 "metadata": {
  "kernelspec": {
   "display_name": "Python 3",
   "language": "python",
   "name": "python3"
  },
  "language_info": {
   "codemirror_mode": {
    "name": "ipython",
    "version": 2
   },
   "file_extension": ".py",
   "mimetype": "text/x-python",
   "name": "python",
   "nbconvert_exporter": "python",
   "pygments_lexer": "ipython2",
   "version": "2.7.6"
  }
 },
 "nbformat": 4,
 "nbformat_minor": 5
}
