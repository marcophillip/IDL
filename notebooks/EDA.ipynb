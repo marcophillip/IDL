{
 "cells": [
  {
   "cell_type": "code",
   "execution_count": 93,
   "id": "initial_id",
   "metadata": {
    "collapsed": true,
    "ExecuteTime": {
     "end_time": "2024-03-21T01:14:21.221603674Z",
     "start_time": "2024-03-21T01:14:21.188222504Z"
    }
   },
   "outputs": [],
   "source": [
    "import pandas as pd\n",
    "from string import digits, punctuation\n",
    "from unidecode import unidecode\n",
    "import re"
   ]
  },
  {
   "cell_type": "code",
   "outputs": [],
   "source": [
    "def read_file(file_path):\n",
    "    with open(file_path, \"r\") as file:\n",
    "        f = file.read()\n",
    "    f = f.split(\"\\n\")\n",
    "    return f"
   ],
   "metadata": {
    "collapsed": false,
    "ExecuteTime": {
     "end_time": "2024-03-21T00:41:31.220609292Z",
     "start_time": "2024-03-21T00:41:31.175685821Z"
    }
   },
   "id": "dbcf34e4e1cdcc4",
   "execution_count": 44
  },
  {
   "cell_type": "code",
   "outputs": [],
   "source": [
    "eng = read_file(\"../data/en-kikuyu/eng.txt\")"
   ],
   "metadata": {
    "collapsed": false,
    "ExecuteTime": {
     "end_time": "2024-03-21T00:42:48.790059989Z",
     "start_time": "2024-03-21T00:42:48.736303765Z"
    }
   },
   "id": "61cd4994c02c840e",
   "execution_count": 49
  },
  {
   "cell_type": "code",
   "outputs": [],
   "source": [
    "kikuyu = read_file(\"../data/en-kikuyu/kikuyu.txt\")"
   ],
   "metadata": {
    "collapsed": false,
    "ExecuteTime": {
     "end_time": "2024-03-21T00:42:53.659514197Z",
     "start_time": "2024-03-21T00:42:53.627296414Z"
    }
   },
   "id": "84d0b77cd986da8d",
   "execution_count": 50
  },
  {
   "cell_type": "code",
   "outputs": [],
   "source": [
    "en_kikuyu = pd.DataFrame({'kikuyu': kikuyu,\n",
    "              'eng': eng})"
   ],
   "metadata": {
    "collapsed": false,
    "ExecuteTime": {
     "end_time": "2024-03-21T00:43:09.112660150Z",
     "start_time": "2024-03-21T00:43:09.099392637Z"
    }
   },
   "id": "d4f8c2da5c9b4f01",
   "execution_count": 52
  },
  {
   "cell_type": "code",
   "outputs": [
    {
     "data": {
      "text/plain": "                                                 kikuyu  \\\n0     Marĩĩtwa mamwe thĩinĩ wa gĩcunjĩ gĩkĩ nĩ macen...   \n1     Jehova nĩrĩo rĩĩtwa rĩa Ngai ta ũrĩa rĩguũrĩti...   \n2     Bibilia yugaga ũũ : “ Ngoro ya mwana ĩthaĩkanĩ...   \n3     © 2016 Watch Tower Bible and Tract Society of ...   \n4     ( Rora rungu rwa MORUTANI MA BIBILIA > MACOKIO...   \n...                                                 ...   \n2694    Ngũbia ya ũhonokio ( Rora kĩbungo gĩa 15 - 18 )   \n2695  Nĩ nyonete atĩ andũ nĩ mathikagĩrĩria wega man...   \n2696        Rũhiũ rwa roho ( Rora kĩbungo gĩa 19 - 20 )   \n2697  Kũgerera ũteithio wa Jehova , no tũhote kwĩhan...   \n2698                                                      \n\n                                                    eng  \n0        Some names in this article have been changed .  \n1     Jehovah is the name of God as revealed in the ...  \n2     The Bible says that “ foolishness is bound up ...  \n3     © 2016 Watch Tower Bible and Tract Society of ...  \n4     ( Look under BIBLE TEACHINGS > BIBLE QUESTIONS...  \n...                                                 ...  \n2694  The helmet of salvation ( See paragraphs 15 - ...  \n2695  I’ve found that people respond well when they ...  \n2696  The sword of the spirit ( See paragraphs 19 - ...  \n2697  With Jehovah’s help , we can stand firm agains...  \n2698                                                     \n\n[2699 rows x 2 columns]",
      "text/html": "<div>\n<style scoped>\n    .dataframe tbody tr th:only-of-type {\n        vertical-align: middle;\n    }\n\n    .dataframe tbody tr th {\n        vertical-align: top;\n    }\n\n    .dataframe thead th {\n        text-align: right;\n    }\n</style>\n<table border=\"1\" class=\"dataframe\">\n  <thead>\n    <tr style=\"text-align: right;\">\n      <th></th>\n      <th>kikuyu</th>\n      <th>eng</th>\n    </tr>\n  </thead>\n  <tbody>\n    <tr>\n      <th>0</th>\n      <td>Marĩĩtwa mamwe thĩinĩ wa gĩcunjĩ gĩkĩ nĩ macen...</td>\n      <td>Some names in this article have been changed .</td>\n    </tr>\n    <tr>\n      <th>1</th>\n      <td>Jehova nĩrĩo rĩĩtwa rĩa Ngai ta ũrĩa rĩguũrĩti...</td>\n      <td>Jehovah is the name of God as revealed in the ...</td>\n    </tr>\n    <tr>\n      <th>2</th>\n      <td>Bibilia yugaga ũũ : “ Ngoro ya mwana ĩthaĩkanĩ...</td>\n      <td>The Bible says that “ foolishness is bound up ...</td>\n    </tr>\n    <tr>\n      <th>3</th>\n      <td>© 2016 Watch Tower Bible and Tract Society of ...</td>\n      <td>© 2016 Watch Tower Bible and Tract Society of ...</td>\n    </tr>\n    <tr>\n      <th>4</th>\n      <td>( Rora rungu rwa MORUTANI MA BIBILIA &gt; MACOKIO...</td>\n      <td>( Look under BIBLE TEACHINGS &gt; BIBLE QUESTIONS...</td>\n    </tr>\n    <tr>\n      <th>...</th>\n      <td>...</td>\n      <td>...</td>\n    </tr>\n    <tr>\n      <th>2694</th>\n      <td>Ngũbia ya ũhonokio ( Rora kĩbungo gĩa 15 - 18 )</td>\n      <td>The helmet of salvation ( See paragraphs 15 - ...</td>\n    </tr>\n    <tr>\n      <th>2695</th>\n      <td>Nĩ nyonete atĩ andũ nĩ mathikagĩrĩria wega man...</td>\n      <td>I’ve found that people respond well when they ...</td>\n    </tr>\n    <tr>\n      <th>2696</th>\n      <td>Rũhiũ rwa roho ( Rora kĩbungo gĩa 19 - 20 )</td>\n      <td>The sword of the spirit ( See paragraphs 19 - ...</td>\n    </tr>\n    <tr>\n      <th>2697</th>\n      <td>Kũgerera ũteithio wa Jehova , no tũhote kwĩhan...</td>\n      <td>With Jehovah’s help , we can stand firm agains...</td>\n    </tr>\n    <tr>\n      <th>2698</th>\n      <td></td>\n      <td></td>\n    </tr>\n  </tbody>\n</table>\n<p>2699 rows × 2 columns</p>\n</div>"
     },
     "execution_count": 55,
     "metadata": {},
     "output_type": "execute_result"
    }
   ],
   "source": [
    "en_kikuyu"
   ],
   "metadata": {
    "collapsed": false,
    "ExecuteTime": {
     "end_time": "2024-03-21T00:43:26.760202647Z",
     "start_time": "2024-03-21T00:43:26.716805821Z"
    }
   },
   "id": "7061d9c9a1fa68d3",
   "execution_count": 55
  },
  {
   "cell_type": "code",
   "outputs": [],
   "source": [
    "def clean_text(x):\n",
    "    remove_digits = str.maketrans('', '', digits)\n",
    "    x = x.translate(remove_digits).lower()\n",
    "    x = re.sub(r'(www|http|https)\\S+', '', x)\n",
    "    x = unidecode(x)\n",
    "    x = x.translate(str.maketrans('', '', punctuation))\n",
    "    return x"
   ],
   "metadata": {
    "collapsed": false,
    "ExecuteTime": {
     "end_time": "2024-03-21T01:21:51.803829425Z",
     "start_time": "2024-03-21T01:21:51.757417899Z"
    }
   },
   "id": "6d72f788f2559124",
   "execution_count": 126
  },
  {
   "cell_type": "code",
   "outputs": [
    {
     "data": {
      "text/plain": "0       mariitwa mamwe thiini wa gicunji giki ni macen...\n1       jehova nirio riitwa ria ngai ta uria riguuriti...\n2       bibilia yugaga uu   ngoro ya mwana ithaikaniti...\n3       c  watch tower bible and tract society of penn...\n4        rora rungu rwa morutani ma bibilia  macokio m...\n                              ...                        \n2694             ngubia ya uhonokio  rora kibungo gia    \n2695    ni nyonete ati andu ni mathikagiriria wega man...\n2696                 ruhiu rwa roho  rora kibungo gia    \n2697    kugerera uteithio wa jehova  no tuhote kwihand...\n2698                                                     \nName: kikuyu, Length: 2699, dtype: object"
     },
     "execution_count": 128,
     "metadata": {},
     "output_type": "execute_result"
    }
   ],
   "source": [
    "en_kikuyu.kikuyu.apply(clean_text)"
   ],
   "metadata": {
    "collapsed": false,
    "ExecuteTime": {
     "end_time": "2024-03-21T01:22:10.410100928Z",
     "start_time": "2024-03-21T01:22:10.322521213Z"
    }
   },
   "id": "9258d1d314de734",
   "execution_count": 128
  },
  {
   "cell_type": "code",
   "outputs": [],
   "source": [],
   "metadata": {
    "collapsed": false,
    "ExecuteTime": {
     "end_time": "2024-03-21T01:20:31.418993856Z",
     "start_time": "2024-03-21T01:20:31.369281974Z"
    }
   },
   "id": "2119b60df87bcd2c",
   "execution_count": 123
  },
  {
   "cell_type": "code",
   "outputs": [],
   "source": [],
   "metadata": {
    "collapsed": false
   },
   "id": "f46b9ab29d57900b"
  },
  {
   "cell_type": "code",
   "outputs": [],
   "source": [],
   "metadata": {
    "collapsed": false
   },
   "id": "135be7108c75f05d"
  },
  {
   "cell_type": "code",
   "outputs": [],
   "source": [],
   "metadata": {
    "collapsed": false
   },
   "id": "cecba6caed73124d"
  },
  {
   "cell_type": "code",
   "outputs": [],
   "source": [
    "eng_ = read_file(\"../data/eng-swa/gamayun_kit5k.eng\")\n",
    "swahili = read_file(\"../data/eng-swa/gamayun_kit5k.swa\")"
   ],
   "metadata": {
    "collapsed": false,
    "ExecuteTime": {
     "end_time": "2024-03-21T00:46:43.875510397Z",
     "start_time": "2024-03-21T00:46:43.854756401Z"
    }
   },
   "id": "283b021f73ee0d67",
   "execution_count": 61
  },
  {
   "cell_type": "code",
   "outputs": [
    {
     "data": {
      "text/plain": "                                                    eng  \\\n0                              Is that your new friend?   \n1                  Jacob wasn't interested in baseball.   \n2          Adam told me that Alice had a new boyfriend.   \n3           The radio didn't inform about the accident.   \n4                       Adam is worried we'll get lost.   \n...                                                 ...   \n4996                        C'mon, let's eat something!   \n4997  The essence of all art is to have pleasure in ...   \n4998  As I entered the coffee bar, I found two young...   \n4999  When you swallow a dangerous substance, what y...   \n5000                                                      \n\n                                                swahili  \n0                             Huyo ni rafiki yako mpya?  \n1                     Job hana hamu ya mpira wa vikapu.  \n2     Adam aliniambia kuwa Alice alikuwa na mpenzi m...  \n3                   Radio haikutanga kuhusu ajali hiyo.  \n4                         Adamu ana wasiwasi tutapotea.  \n...                                                 ...  \n4996                             Njoo, wacha tule kitu!  \n4997  Kiini cha sanaa yote ni kuwa na furaha katika ...  \n4998  Nilipoingia kwenye mkahawa, nilipata vijana wa...  \n4999  Unapomeza dutu hatari, kile unahitaji kufanya ...  \n5000                                                     \n\n[5001 rows x 2 columns]",
      "text/html": "<div>\n<style scoped>\n    .dataframe tbody tr th:only-of-type {\n        vertical-align: middle;\n    }\n\n    .dataframe tbody tr th {\n        vertical-align: top;\n    }\n\n    .dataframe thead th {\n        text-align: right;\n    }\n</style>\n<table border=\"1\" class=\"dataframe\">\n  <thead>\n    <tr style=\"text-align: right;\">\n      <th></th>\n      <th>eng</th>\n      <th>swahili</th>\n    </tr>\n  </thead>\n  <tbody>\n    <tr>\n      <th>0</th>\n      <td>Is that your new friend?</td>\n      <td>Huyo ni rafiki yako mpya?</td>\n    </tr>\n    <tr>\n      <th>1</th>\n      <td>Jacob wasn't interested in baseball.</td>\n      <td>Job hana hamu ya mpira wa vikapu.</td>\n    </tr>\n    <tr>\n      <th>2</th>\n      <td>Adam told me that Alice had a new boyfriend.</td>\n      <td>Adam aliniambia kuwa Alice alikuwa na mpenzi m...</td>\n    </tr>\n    <tr>\n      <th>3</th>\n      <td>The radio didn't inform about the accident.</td>\n      <td>Radio haikutanga kuhusu ajali hiyo.</td>\n    </tr>\n    <tr>\n      <th>4</th>\n      <td>Adam is worried we'll get lost.</td>\n      <td>Adamu ana wasiwasi tutapotea.</td>\n    </tr>\n    <tr>\n      <th>...</th>\n      <td>...</td>\n      <td>...</td>\n    </tr>\n    <tr>\n      <th>4996</th>\n      <td>C'mon, let's eat something!</td>\n      <td>Njoo, wacha tule kitu!</td>\n    </tr>\n    <tr>\n      <th>4997</th>\n      <td>The essence of all art is to have pleasure in ...</td>\n      <td>Kiini cha sanaa yote ni kuwa na furaha katika ...</td>\n    </tr>\n    <tr>\n      <th>4998</th>\n      <td>As I entered the coffee bar, I found two young...</td>\n      <td>Nilipoingia kwenye mkahawa, nilipata vijana wa...</td>\n    </tr>\n    <tr>\n      <th>4999</th>\n      <td>When you swallow a dangerous substance, what y...</td>\n      <td>Unapomeza dutu hatari, kile unahitaji kufanya ...</td>\n    </tr>\n    <tr>\n      <th>5000</th>\n      <td></td>\n      <td></td>\n    </tr>\n  </tbody>\n</table>\n<p>5001 rows × 2 columns</p>\n</div>"
     },
     "execution_count": 63,
     "metadata": {},
     "output_type": "execute_result"
    }
   ],
   "source": [
    "en_swahili = pd.DataFrame({\"eng\": eng_,\n",
    "                           \"swahili\": swahili})\n",
    "en_swahili"
   ],
   "metadata": {
    "collapsed": false,
    "ExecuteTime": {
     "end_time": "2024-03-21T00:47:35.231185249Z",
     "start_time": "2024-03-21T00:47:35.181271338Z"
    }
   },
   "id": "427652d1b8a33e5f",
   "execution_count": 63
  },
  {
   "cell_type": "code",
   "outputs": [
    {
     "data": {
      "text/plain": "                                                 English  \\\n0      All refugees were requested to register with t...   \n1         They called for a refugees' meeting yesterday.   \n2      Refugees had misunderstandings between   thems...   \n3      We were urged to welcome refugees into our com...   \n4      More development is achieved when we work toge...   \n...                                                  ...   \n15995                                                NaN   \n15996                                                NaN   \n15997                                                NaN   \n15998                                                NaN   \n15999                                                NaN   \n\n                                                 Luganda  \n0      Abanoonyiboobubudamu bonna baasabiddwa beewand...  \n1      Baayise olukungaana lw'abanoonyiboobubudamu eg...  \n2      Abanoonyiboobubudamu b'abadde n'obutakkaanya w...  \n3      Twakubirizibwa okwaniriza abanoonyiboobubudamu...  \n4      Bwe tukolera awamu enkulaakulana enyingi efuni...  \n...                                                  ...  \n15995                                                NaN  \n15996                                                NaN  \n15997                                                NaN  \n15998                                                NaN  \n15999                                                NaN  \n\n[16000 rows x 2 columns]",
      "text/html": "<div>\n<style scoped>\n    .dataframe tbody tr th:only-of-type {\n        vertical-align: middle;\n    }\n\n    .dataframe tbody tr th {\n        vertical-align: top;\n    }\n\n    .dataframe thead th {\n        text-align: right;\n    }\n</style>\n<table border=\"1\" class=\"dataframe\">\n  <thead>\n    <tr style=\"text-align: right;\">\n      <th></th>\n      <th>English</th>\n      <th>Luganda</th>\n    </tr>\n  </thead>\n  <tbody>\n    <tr>\n      <th>0</th>\n      <td>All refugees were requested to register with t...</td>\n      <td>Abanoonyiboobubudamu bonna baasabiddwa beewand...</td>\n    </tr>\n    <tr>\n      <th>1</th>\n      <td>They called for a refugees' meeting yesterday.</td>\n      <td>Baayise olukungaana lw'abanoonyiboobubudamu eg...</td>\n    </tr>\n    <tr>\n      <th>2</th>\n      <td>Refugees had misunderstandings between   thems...</td>\n      <td>Abanoonyiboobubudamu b'abadde n'obutakkaanya w...</td>\n    </tr>\n    <tr>\n      <th>3</th>\n      <td>We were urged to welcome refugees into our com...</td>\n      <td>Twakubirizibwa okwaniriza abanoonyiboobubudamu...</td>\n    </tr>\n    <tr>\n      <th>4</th>\n      <td>More development is achieved when we work toge...</td>\n      <td>Bwe tukolera awamu enkulaakulana enyingi efuni...</td>\n    </tr>\n    <tr>\n      <th>...</th>\n      <td>...</td>\n      <td>...</td>\n    </tr>\n    <tr>\n      <th>15995</th>\n      <td>NaN</td>\n      <td>NaN</td>\n    </tr>\n    <tr>\n      <th>15996</th>\n      <td>NaN</td>\n      <td>NaN</td>\n    </tr>\n    <tr>\n      <th>15997</th>\n      <td>NaN</td>\n      <td>NaN</td>\n    </tr>\n    <tr>\n      <th>15998</th>\n      <td>NaN</td>\n      <td>NaN</td>\n    </tr>\n    <tr>\n      <th>15999</th>\n      <td>NaN</td>\n      <td>NaN</td>\n    </tr>\n  </tbody>\n</table>\n<p>16000 rows × 2 columns</p>\n</div>"
     },
     "execution_count": 68,
     "metadata": {},
     "output_type": "execute_result"
    }
   ],
   "source": [
    "en_lug = pd.read_csv(\"../data/eng-lug.csv\", encoding='latin-1').iloc[:,:2]\n",
    "en_lug"
   ],
   "metadata": {
    "collapsed": false,
    "ExecuteTime": {
     "end_time": "2024-03-21T00:54:48.936924753Z",
     "start_time": "2024-03-21T00:54:48.894836756Z"
    }
   },
   "id": "69b45ec41a29f0ee",
   "execution_count": 68
  },
  {
   "cell_type": "code",
   "outputs": [],
   "source": [],
   "metadata": {
    "collapsed": false
   },
   "id": "74c109e5f638eadf"
  },
  {
   "cell_type": "code",
   "outputs": [],
   "source": [],
   "metadata": {
    "collapsed": false
   },
   "id": "7464d8277bfa1dae"
  },
  {
   "cell_type": "code",
   "outputs": [],
   "source": [],
   "metadata": {
    "collapsed": false
   },
   "id": "e6f6ac0220675bd7"
  },
  {
   "cell_type": "code",
   "outputs": [],
   "source": [],
   "metadata": {
    "collapsed": false
   },
   "id": "bb994a958629ae21"
  },
  {
   "cell_type": "code",
   "outputs": [],
   "source": [],
   "metadata": {
    "collapsed": false
   },
   "id": "8b6f2d3b4311d495"
  },
  {
   "cell_type": "code",
   "outputs": [],
   "source": [],
   "metadata": {
    "collapsed": false
   },
   "id": "91170fafb3aa31c9"
  },
  {
   "cell_type": "code",
   "outputs": [],
   "source": [],
   "metadata": {
    "collapsed": false
   },
   "id": "967f6db4e115ef3c"
  }
 ],
 "metadata": {
  "kernelspec": {
   "display_name": "Python 3",
   "language": "python",
   "name": "python3"
  },
  "language_info": {
   "codemirror_mode": {
    "name": "ipython",
    "version": 2
   },
   "file_extension": ".py",
   "mimetype": "text/x-python",
   "name": "python",
   "nbconvert_exporter": "python",
   "pygments_lexer": "ipython2",
   "version": "2.7.6"
  }
 },
 "nbformat": 4,
 "nbformat_minor": 5
}
